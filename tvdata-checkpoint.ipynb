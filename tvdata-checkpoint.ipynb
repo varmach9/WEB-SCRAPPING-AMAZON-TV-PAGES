{
 "cells": [
  {
   "cell_type": "code",
   "execution_count": 1,
   "metadata": {},
   "outputs": [],
   "source": [
    "import numpy as np\n",
    "import pandas as pd\n",
    "import matplotlib.pyplot as plt\n",
    "%matplotlib inline"
   ]
  },
  {
   "cell_type": "code",
   "execution_count": 171,
   "metadata": {},
   "outputs": [],
   "source": [
    "import seaborn as sns"
   ]
  },
  {
   "cell_type": "code",
   "execution_count": 135,
   "metadata": {},
   "outputs": [],
   "source": [
    "df=pd.read_csv(\"result.csv\")"
   ]
  },
  {
   "cell_type": "code",
   "execution_count": 136,
   "metadata": {},
   "outputs": [
    {
     "data": {
      "text/html": [
       "<div>\n",
       "<style scoped>\n",
       "    .dataframe tbody tr th:only-of-type {\n",
       "        vertical-align: middle;\n",
       "    }\n",
       "\n",
       "    .dataframe tbody tr th {\n",
       "        vertical-align: top;\n",
       "    }\n",
       "\n",
       "    .dataframe thead th {\n",
       "        text-align: right;\n",
       "    }\n",
       "</style>\n",
       "<table border=\"1\" class=\"dataframe\">\n",
       "  <thead>\n",
       "    <tr style=\"text-align: right;\">\n",
       "      <th></th>\n",
       "      <th>des</th>\n",
       "      <th>p</th>\n",
       "      <th>ra</th>\n",
       "      <th>re</th>\n",
       "      <th>url</th>\n",
       "    </tr>\n",
       "  </thead>\n",
       "  <tbody>\n",
       "    <tr>\n",
       "      <th>0</th>\n",
       "      <td>Deco Gear 35\" Curved Ultrawide LED Gaming Moni...</td>\n",
       "      <td>$339.95</td>\n",
       "      <td>4.7 out of 5 stars</td>\n",
       "      <td>333</td>\n",
       "      <td>https://www.amazon.com/s?k=ultrawide+monitor&amp;r...</td>\n",
       "    </tr>\n",
       "    <tr>\n",
       "      <th>1</th>\n",
       "      <td>Sceptre Curved 30\" 21:9 Gaming LED Monitor 256...</td>\n",
       "      <td>$235.91</td>\n",
       "      <td>4.6 out of 5 stars</td>\n",
       "      <td>2,338</td>\n",
       "      <td>https://www.amazon.com/s?k=ultrawide+monitor&amp;r...</td>\n",
       "    </tr>\n",
       "    <tr>\n",
       "      <th>2</th>\n",
       "      <td>LG 29WN600-W 29\" 21:9 UltraWide WFHD IPS HDR10...</td>\n",
       "      <td>$226.99</td>\n",
       "      <td>4.7 out of 5 stars</td>\n",
       "      <td>1,814</td>\n",
       "      <td>https://www.amazon.com/s?k=ultrawide+monitor&amp;r...</td>\n",
       "    </tr>\n",
       "    <tr>\n",
       "      <th>3</th>\n",
       "      <td>LG 29WP60G-B 29 Inch 21:9 UltraWide Full HD (2...</td>\n",
       "      <td>$226.99</td>\n",
       "      <td>4.6 out of 5 stars</td>\n",
       "      <td>1,034</td>\n",
       "      <td>https://www.amazon.com/s?k=ultrawide+monitor&amp;r...</td>\n",
       "    </tr>\n",
       "    <tr>\n",
       "      <th>4</th>\n",
       "      <td>Sceptre 35 Inch Curved UltraWide 21: 9 LED Cre...</td>\n",
       "      <td>$399.97</td>\n",
       "      <td>4.6 out of 5 stars</td>\n",
       "      <td>2,251</td>\n",
       "      <td>https://www.amazon.com/s?k=ultrawide+monitor&amp;r...</td>\n",
       "    </tr>\n",
       "  </tbody>\n",
       "</table>\n",
       "</div>"
      ],
      "text/plain": [
       "                                                 des        p  \\\n",
       "0  Deco Gear 35\" Curved Ultrawide LED Gaming Moni...  $339.95   \n",
       "1  Sceptre Curved 30\" 21:9 Gaming LED Monitor 256...  $235.91   \n",
       "2  LG 29WN600-W 29\" 21:9 UltraWide WFHD IPS HDR10...  $226.99   \n",
       "3  LG 29WP60G-B 29 Inch 21:9 UltraWide Full HD (2...  $226.99   \n",
       "4  Sceptre 35 Inch Curved UltraWide 21: 9 LED Cre...  $399.97   \n",
       "\n",
       "                   ra     re  \\\n",
       "0  4.7 out of 5 stars    333   \n",
       "1  4.6 out of 5 stars  2,338   \n",
       "2  4.7 out of 5 stars  1,814   \n",
       "3  4.6 out of 5 stars  1,034   \n",
       "4  4.6 out of 5 stars  2,251   \n",
       "\n",
       "                                                 url  \n",
       "0  https://www.amazon.com/s?k=ultrawide+monitor&r...  \n",
       "1  https://www.amazon.com/s?k=ultrawide+monitor&r...  \n",
       "2  https://www.amazon.com/s?k=ultrawide+monitor&r...  \n",
       "3  https://www.amazon.com/s?k=ultrawide+monitor&r...  \n",
       "4  https://www.amazon.com/s?k=ultrawide+monitor&r...  "
      ]
     },
     "execution_count": 136,
     "metadata": {},
     "output_type": "execute_result"
    }
   ],
   "source": [
    "df.head()"
   ]
  },
  {
   "cell_type": "code",
   "execution_count": 137,
   "metadata": {},
   "outputs": [],
   "source": [
    "df=df[[\"des\",\"p\",\"ra\",\"re\"]]"
   ]
  },
  {
   "cell_type": "code",
   "execution_count": 148,
   "metadata": {
    "scrolled": true
   },
   "outputs": [
    {
     "data": {
      "text/plain": [
       "354"
      ]
     },
     "execution_count": 148,
     "metadata": {},
     "output_type": "execute_result"
    }
   ],
   "source": [
    "len(df)"
   ]
  },
  {
   "cell_type": "code",
   "execution_count": 139,
   "metadata": {},
   "outputs": [],
   "source": [
    "backup=df.copy()"
   ]
  },
  {
   "cell_type": "code",
   "execution_count": 142,
   "metadata": {},
   "outputs": [
    {
     "data": {
      "text/plain": [
       "'Lenovo G34w-10 34-Inch WQHD Curved Gaming Monitor, 21:9 Ultra-Wide, 3 Side NearEdgeless, 3440 x 1440, AMD FreeSync, 144Hz, HDMI, DP, Adjustable Stand, VESA, 66A1GCCBUS, Black'"
      ]
     },
     "execution_count": 142,
     "metadata": {},
     "output_type": "execute_result"
    }
   ],
   "source": [
    "df[\"des\"][15]"
   ]
  },
  {
   "cell_type": "code",
   "execution_count": 143,
   "metadata": {},
   "outputs": [],
   "source": [
    "\n",
    "def inch_words(array):\n",
    "    for i in array:\n",
    "        \n",
    "        m= [char for char in i]\n",
    "        n=len(m)\n",
    "        #print(n)\n",
    "        if n>6:\n",
    "            #print(i[2:6])\n",
    "            if i[2:6] ==\"-Inc\" or i[2:6] ==\"-inc\":\n",
    "                return i\n",
    "       \n",
    "        \n",
    "    \n",
    "    return (0)\n",
    "def sendinchesinwords(array):\n",
    "    prev=\"none\"\n",
    "    for i in array:\n",
    "        if i == \"Inch\" or i== \"inch\" or i== \"inch,\" or i== \"Inch,\":\n",
    "            return prev\n",
    "        prev=i\n",
    "    return inch_words(array)\n",
    "    \n",
    "    \n",
    "def sendinches(array):\n",
    "    for i in array:\n",
    "        m= [char for char in i]\n",
    "        \n",
    "        if '\"' in m:\n",
    "            return i\n",
    "        elif \"'\" in m:\n",
    "            return i\n",
    "       \n",
    "    return sendinchesinwords(array)\n",
    "#print([char for char in '29\"'])    "
   ]
  },
  {
   "cell_type": "code",
   "execution_count": 149,
   "metadata": {},
   "outputs": [
    {
     "name": "stdout",
     "output_type": "stream",
     "text": [
      "354\n"
     ]
    }
   ],
   "source": [
    "a=[]\n",
    "for i in range(0,len(df)):\n",
    "    array=df[\"des\"][i].split(\" \")\n",
    "    a.append(sendinches(array)[0:2])\n",
    "print(len(a))    "
   ]
  },
  {
   "cell_type": "code",
   "execution_count": 152,
   "metadata": {},
   "outputs": [
    {
     "data": {
      "text/html": [
       "<div>\n",
       "<style scoped>\n",
       "    .dataframe tbody tr th:only-of-type {\n",
       "        vertical-align: middle;\n",
       "    }\n",
       "\n",
       "    .dataframe tbody tr th {\n",
       "        vertical-align: top;\n",
       "    }\n",
       "\n",
       "    .dataframe thead th {\n",
       "        text-align: right;\n",
       "    }\n",
       "</style>\n",
       "<table border=\"1\" class=\"dataframe\">\n",
       "  <thead>\n",
       "    <tr style=\"text-align: right;\">\n",
       "      <th></th>\n",
       "      <th>des</th>\n",
       "      <th>p</th>\n",
       "      <th>ra</th>\n",
       "      <th>re</th>\n",
       "      <th>inches</th>\n",
       "    </tr>\n",
       "  </thead>\n",
       "  <tbody>\n",
       "    <tr>\n",
       "      <th>349</th>\n",
       "      <td>Acer Nitro XZ342CK Pbmiiphx 34\" 1500R Curved W...</td>\n",
       "      <td>$427.99</td>\n",
       "      <td>4.5 out of 5 stars</td>\n",
       "      <td>948</td>\n",
       "      <td>34</td>\n",
       "    </tr>\n",
       "    <tr>\n",
       "      <th>350</th>\n",
       "      <td>Sceptre Curved 30\" 21:9 Gaming LED Monitor 256...</td>\n",
       "      <td>$235.91</td>\n",
       "      <td>4.6 out of 5 stars</td>\n",
       "      <td>2,338</td>\n",
       "      <td>30</td>\n",
       "    </tr>\n",
       "    <tr>\n",
       "      <th>351</th>\n",
       "      <td>Lenovo G34w-10 34-Inch WQHD Curved Gaming Moni...</td>\n",
       "      <td>$459.99</td>\n",
       "      <td>4.3 out of 5 stars</td>\n",
       "      <td>89</td>\n",
       "      <td>34</td>\n",
       "    </tr>\n",
       "    <tr>\n",
       "      <th>352</th>\n",
       "      <td>Z-Edge U28I4K 28-inch Gaming Monitor Ultra HD ...</td>\n",
       "      <td>$269.99</td>\n",
       "      <td>3.9 out of 5 stars</td>\n",
       "      <td>15</td>\n",
       "      <td>28</td>\n",
       "    </tr>\n",
       "    <tr>\n",
       "      <th>353</th>\n",
       "      <td>UG27Q 27-inch IPS Gaming Monitor 100Hz - QHD 2...</td>\n",
       "      <td>$239.99</td>\n",
       "      <td>5.0 out of 5 stars</td>\n",
       "      <td>3</td>\n",
       "      <td>27</td>\n",
       "    </tr>\n",
       "  </tbody>\n",
       "</table>\n",
       "</div>"
      ],
      "text/plain": [
       "                                                   des        p  \\\n",
       "349  Acer Nitro XZ342CK Pbmiiphx 34\" 1500R Curved W...  $427.99   \n",
       "350  Sceptre Curved 30\" 21:9 Gaming LED Monitor 256...  $235.91   \n",
       "351  Lenovo G34w-10 34-Inch WQHD Curved Gaming Moni...  $459.99   \n",
       "352  Z-Edge U28I4K 28-inch Gaming Monitor Ultra HD ...  $269.99   \n",
       "353  UG27Q 27-inch IPS Gaming Monitor 100Hz - QHD 2...  $239.99   \n",
       "\n",
       "                     ra     re inches  \n",
       "349  4.5 out of 5 stars    948     34  \n",
       "350  4.6 out of 5 stars  2,338     30  \n",
       "351  4.3 out of 5 stars     89     34  \n",
       "352  3.9 out of 5 stars     15     28  \n",
       "353  5.0 out of 5 stars      3     27  "
      ]
     },
     "execution_count": 152,
     "metadata": {},
     "output_type": "execute_result"
    }
   ],
   "source": [
    "df[\"inches\"]=a\n",
    "df.tail()"
   ]
  },
  {
   "cell_type": "code",
   "execution_count": 153,
   "metadata": {},
   "outputs": [],
   "source": [
    "backup2=df.copy()"
   ]
  },
  {
   "cell_type": "code",
   "execution_count": 155,
   "metadata": {},
   "outputs": [
    {
     "data": {
      "text/html": [
       "<div>\n",
       "<style scoped>\n",
       "    .dataframe tbody tr th:only-of-type {\n",
       "        vertical-align: middle;\n",
       "    }\n",
       "\n",
       "    .dataframe tbody tr th {\n",
       "        vertical-align: top;\n",
       "    }\n",
       "\n",
       "    .dataframe thead th {\n",
       "        text-align: right;\n",
       "    }\n",
       "</style>\n",
       "<table border=\"1\" class=\"dataframe\">\n",
       "  <thead>\n",
       "    <tr style=\"text-align: right;\">\n",
       "      <th></th>\n",
       "      <th>des</th>\n",
       "      <th>p</th>\n",
       "      <th>ra</th>\n",
       "      <th>re</th>\n",
       "      <th>inches</th>\n",
       "    </tr>\n",
       "  </thead>\n",
       "  <tbody>\n",
       "    <tr>\n",
       "      <th>0</th>\n",
       "      <td>Deco Gear 35\" Curved Ultrawide LED Gaming Moni...</td>\n",
       "      <td>339.95</td>\n",
       "      <td>4.7 out of 5 stars</td>\n",
       "      <td>333</td>\n",
       "      <td>35</td>\n",
       "    </tr>\n",
       "    <tr>\n",
       "      <th>1</th>\n",
       "      <td>Sceptre Curved 30\" 21:9 Gaming LED Monitor 256...</td>\n",
       "      <td>235.91</td>\n",
       "      <td>4.6 out of 5 stars</td>\n",
       "      <td>2,338</td>\n",
       "      <td>30</td>\n",
       "    </tr>\n",
       "    <tr>\n",
       "      <th>2</th>\n",
       "      <td>LG 29WN600-W 29\" 21:9 UltraWide WFHD IPS HDR10...</td>\n",
       "      <td>226.99</td>\n",
       "      <td>4.7 out of 5 stars</td>\n",
       "      <td>1,814</td>\n",
       "      <td>29</td>\n",
       "    </tr>\n",
       "    <tr>\n",
       "      <th>3</th>\n",
       "      <td>LG 29WP60G-B 29 Inch 21:9 UltraWide Full HD (2...</td>\n",
       "      <td>226.99</td>\n",
       "      <td>4.6 out of 5 stars</td>\n",
       "      <td>1,034</td>\n",
       "      <td>29</td>\n",
       "    </tr>\n",
       "    <tr>\n",
       "      <th>4</th>\n",
       "      <td>Sceptre 35 Inch Curved UltraWide 21: 9 LED Cre...</td>\n",
       "      <td>399.97</td>\n",
       "      <td>4.6 out of 5 stars</td>\n",
       "      <td>2,251</td>\n",
       "      <td>35</td>\n",
       "    </tr>\n",
       "    <tr>\n",
       "      <th>5</th>\n",
       "      <td>LG 34GP83A-B 34 Inch 21: 9 UltraGear Curved QH...</td>\n",
       "      <td>799.99</td>\n",
       "      <td>4.7 out of 5 stars</td>\n",
       "      <td>604</td>\n",
       "      <td>34</td>\n",
       "    </tr>\n",
       "    <tr>\n",
       "      <th>6</th>\n",
       "      <td>LG 25UM58-P 25'' UltraWide 21:9 IPS Full HD Mo...</td>\n",
       "      <td>178.99</td>\n",
       "      <td>4.5 out of 5 stars</td>\n",
       "      <td>3,812</td>\n",
       "      <td>25</td>\n",
       "    </tr>\n",
       "    <tr>\n",
       "      <th>7</th>\n",
       "      <td>Z-Edge U24I 24\" Full HD 1920x1080 75Hz LED IPS...</td>\n",
       "      <td>129.99</td>\n",
       "      <td>4.5 out of 5 stars</td>\n",
       "      <td>77</td>\n",
       "      <td>24</td>\n",
       "    </tr>\n",
       "    <tr>\n",
       "      <th>8</th>\n",
       "      <td>GIGABYTE G34WQC 34\" 144Hz Ultra-Wide Curved Ga...</td>\n",
       "      <td>399.99</td>\n",
       "      <td>4.6 out of 5 stars</td>\n",
       "      <td>2,492</td>\n",
       "      <td>34</td>\n",
       "    </tr>\n",
       "    <tr>\n",
       "      <th>9</th>\n",
       "      <td>AOC CU34G2X 34\" Curved Frameless Immersive Gam...</td>\n",
       "      <td>449.99</td>\n",
       "      <td>4.7 out of 5 stars</td>\n",
       "      <td>9,193</td>\n",
       "      <td>34</td>\n",
       "    </tr>\n",
       "    <tr>\n",
       "      <th>10</th>\n",
       "      <td>Z-Edge U29IA 29\" Ultrawide Gaming Monitor 2560...</td>\n",
       "      <td>189.99</td>\n",
       "      <td>4.2 out of 5 stars</td>\n",
       "      <td>39</td>\n",
       "      <td>29</td>\n",
       "    </tr>\n",
       "    <tr>\n",
       "      <th>11</th>\n",
       "      <td>Philips 343E2E 34\" Frameless IPS Monitor, Ultr...</td>\n",
       "      <td>297.60</td>\n",
       "      <td>4.6 out of 5 stars</td>\n",
       "      <td>8,559</td>\n",
       "      <td>34</td>\n",
       "    </tr>\n",
       "    <tr>\n",
       "      <th>12</th>\n",
       "      <td>MOUNTUP Dual Monitor Stand - Free Standing &amp; H...</td>\n",
       "      <td>37.99</td>\n",
       "      <td>4.5 out of 5 stars</td>\n",
       "      <td>66</td>\n",
       "      <td>27</td>\n",
       "    </tr>\n",
       "    <tr>\n",
       "      <th>13</th>\n",
       "      <td>Acer Nitro XZ342CK Pbmiiphx 34\" 1500R Curved W...</td>\n",
       "      <td>427.99</td>\n",
       "      <td>4.5 out of 5 stars</td>\n",
       "      <td>948</td>\n",
       "      <td>34</td>\n",
       "    </tr>\n",
       "    <tr>\n",
       "      <th>14</th>\n",
       "      <td>Sceptre Curved 30\" 21:9 Gaming LED Monitor 256...</td>\n",
       "      <td>235.91</td>\n",
       "      <td>4.6 out of 5 stars</td>\n",
       "      <td>2,338</td>\n",
       "      <td>30</td>\n",
       "    </tr>\n",
       "    <tr>\n",
       "      <th>15</th>\n",
       "      <td>Lenovo G34w-10 34-Inch WQHD Curved Gaming Moni...</td>\n",
       "      <td>459.99</td>\n",
       "      <td>4.3 out of 5 stars</td>\n",
       "      <td>89</td>\n",
       "      <td>34</td>\n",
       "    </tr>\n",
       "    <tr>\n",
       "      <th>16</th>\n",
       "      <td>TVON Single VESA Monitor Stand, Free-Standing ...</td>\n",
       "      <td>29.99</td>\n",
       "      <td>3.6 out of 5 stars</td>\n",
       "      <td>5</td>\n",
       "      <td>13</td>\n",
       "    </tr>\n",
       "    <tr>\n",
       "      <th>17</th>\n",
       "      <td>Z-Edge U28I4K 28-inch Gaming Monitor Ultra HD ...</td>\n",
       "      <td>269.99</td>\n",
       "      <td>3.9 out of 5 stars</td>\n",
       "      <td>15</td>\n",
       "      <td>28</td>\n",
       "    </tr>\n",
       "    <tr>\n",
       "      <th>18</th>\n",
       "      <td>Deco Gear 35\" Curved Ultrawide LED Gaming Moni...</td>\n",
       "      <td>339.95</td>\n",
       "      <td>4.7 out of 5 stars</td>\n",
       "      <td>333</td>\n",
       "      <td>35</td>\n",
       "    </tr>\n",
       "    <tr>\n",
       "      <th>19</th>\n",
       "      <td>Sceptre Curved 30\" 21:9 Gaming LED Monitor 256...</td>\n",
       "      <td>235.91</td>\n",
       "      <td>4.6 out of 5 stars</td>\n",
       "      <td>2,338</td>\n",
       "      <td>30</td>\n",
       "    </tr>\n",
       "  </tbody>\n",
       "</table>\n",
       "</div>"
      ],
      "text/plain": [
       "                                                  des       p  \\\n",
       "0   Deco Gear 35\" Curved Ultrawide LED Gaming Moni...  339.95   \n",
       "1   Sceptre Curved 30\" 21:9 Gaming LED Monitor 256...  235.91   \n",
       "2   LG 29WN600-W 29\" 21:9 UltraWide WFHD IPS HDR10...  226.99   \n",
       "3   LG 29WP60G-B 29 Inch 21:9 UltraWide Full HD (2...  226.99   \n",
       "4   Sceptre 35 Inch Curved UltraWide 21: 9 LED Cre...  399.97   \n",
       "5   LG 34GP83A-B 34 Inch 21: 9 UltraGear Curved QH...  799.99   \n",
       "6   LG 25UM58-P 25'' UltraWide 21:9 IPS Full HD Mo...  178.99   \n",
       "7   Z-Edge U24I 24\" Full HD 1920x1080 75Hz LED IPS...  129.99   \n",
       "8   GIGABYTE G34WQC 34\" 144Hz Ultra-Wide Curved Ga...  399.99   \n",
       "9   AOC CU34G2X 34\" Curved Frameless Immersive Gam...  449.99   \n",
       "10  Z-Edge U29IA 29\" Ultrawide Gaming Monitor 2560...  189.99   \n",
       "11  Philips 343E2E 34\" Frameless IPS Monitor, Ultr...  297.60   \n",
       "12  MOUNTUP Dual Monitor Stand - Free Standing & H...   37.99   \n",
       "13  Acer Nitro XZ342CK Pbmiiphx 34\" 1500R Curved W...  427.99   \n",
       "14  Sceptre Curved 30\" 21:9 Gaming LED Monitor 256...  235.91   \n",
       "15  Lenovo G34w-10 34-Inch WQHD Curved Gaming Moni...  459.99   \n",
       "16  TVON Single VESA Monitor Stand, Free-Standing ...   29.99   \n",
       "17  Z-Edge U28I4K 28-inch Gaming Monitor Ultra HD ...  269.99   \n",
       "18  Deco Gear 35\" Curved Ultrawide LED Gaming Moni...  339.95   \n",
       "19  Sceptre Curved 30\" 21:9 Gaming LED Monitor 256...  235.91   \n",
       "\n",
       "                    ra     re inches  \n",
       "0   4.7 out of 5 stars    333     35  \n",
       "1   4.6 out of 5 stars  2,338     30  \n",
       "2   4.7 out of 5 stars  1,814     29  \n",
       "3   4.6 out of 5 stars  1,034     29  \n",
       "4   4.6 out of 5 stars  2,251     35  \n",
       "5   4.7 out of 5 stars    604     34  \n",
       "6   4.5 out of 5 stars  3,812     25  \n",
       "7   4.5 out of 5 stars     77     24  \n",
       "8   4.6 out of 5 stars  2,492     34  \n",
       "9   4.7 out of 5 stars  9,193     34  \n",
       "10  4.2 out of 5 stars     39     29  \n",
       "11  4.6 out of 5 stars  8,559     34  \n",
       "12  4.5 out of 5 stars     66     27  \n",
       "13  4.5 out of 5 stars    948     34  \n",
       "14  4.6 out of 5 stars  2,338     30  \n",
       "15  4.3 out of 5 stars     89     34  \n",
       "16  3.6 out of 5 stars      5     13  \n",
       "17  3.9 out of 5 stars     15     28  \n",
       "18  4.7 out of 5 stars    333     35  \n",
       "19  4.6 out of 5 stars  2,338     30  "
      ]
     },
     "execution_count": 155,
     "metadata": {},
     "output_type": "execute_result"
    }
   ],
   "source": [
    "for i in range(0,len(df)):\n",
    "    df[\"p\"][i]=df[\"p\"][i][1:]\n",
    "    \n",
    "df.head(20)               "
   ]
  },
  {
   "cell_type": "code",
   "execution_count": 156,
   "metadata": {
    "scrolled": true
   },
   "outputs": [
    {
     "data": {
      "text/html": [
       "<div>\n",
       "<style scoped>\n",
       "    .dataframe tbody tr th:only-of-type {\n",
       "        vertical-align: middle;\n",
       "    }\n",
       "\n",
       "    .dataframe tbody tr th {\n",
       "        vertical-align: top;\n",
       "    }\n",
       "\n",
       "    .dataframe thead th {\n",
       "        text-align: right;\n",
       "    }\n",
       "</style>\n",
       "<table border=\"1\" class=\"dataframe\">\n",
       "  <thead>\n",
       "    <tr style=\"text-align: right;\">\n",
       "      <th></th>\n",
       "      <th>des</th>\n",
       "      <th>p</th>\n",
       "      <th>ra</th>\n",
       "      <th>re</th>\n",
       "      <th>inches</th>\n",
       "    </tr>\n",
       "  </thead>\n",
       "  <tbody>\n",
       "    <tr>\n",
       "      <th>0</th>\n",
       "      <td>Deco Gear 35\" Curved Ultrawide LED Gaming Moni...</td>\n",
       "      <td>339.95</td>\n",
       "      <td>4.7</td>\n",
       "      <td>333</td>\n",
       "      <td>35</td>\n",
       "    </tr>\n",
       "    <tr>\n",
       "      <th>1</th>\n",
       "      <td>Sceptre Curved 30\" 21:9 Gaming LED Monitor 256...</td>\n",
       "      <td>235.91</td>\n",
       "      <td>4.6</td>\n",
       "      <td>2,338</td>\n",
       "      <td>30</td>\n",
       "    </tr>\n",
       "    <tr>\n",
       "      <th>2</th>\n",
       "      <td>LG 29WN600-W 29\" 21:9 UltraWide WFHD IPS HDR10...</td>\n",
       "      <td>226.99</td>\n",
       "      <td>4.7</td>\n",
       "      <td>1,814</td>\n",
       "      <td>29</td>\n",
       "    </tr>\n",
       "    <tr>\n",
       "      <th>3</th>\n",
       "      <td>LG 29WP60G-B 29 Inch 21:9 UltraWide Full HD (2...</td>\n",
       "      <td>226.99</td>\n",
       "      <td>4.6</td>\n",
       "      <td>1,034</td>\n",
       "      <td>29</td>\n",
       "    </tr>\n",
       "    <tr>\n",
       "      <th>4</th>\n",
       "      <td>Sceptre 35 Inch Curved UltraWide 21: 9 LED Cre...</td>\n",
       "      <td>399.97</td>\n",
       "      <td>4.6</td>\n",
       "      <td>2,251</td>\n",
       "      <td>35</td>\n",
       "    </tr>\n",
       "  </tbody>\n",
       "</table>\n",
       "</div>"
      ],
      "text/plain": [
       "                                                 des       p   ra     re  \\\n",
       "0  Deco Gear 35\" Curved Ultrawide LED Gaming Moni...  339.95  4.7    333   \n",
       "1  Sceptre Curved 30\" 21:9 Gaming LED Monitor 256...  235.91  4.6  2,338   \n",
       "2  LG 29WN600-W 29\" 21:9 UltraWide WFHD IPS HDR10...  226.99  4.7  1,814   \n",
       "3  LG 29WP60G-B 29 Inch 21:9 UltraWide Full HD (2...  226.99  4.6  1,034   \n",
       "4  Sceptre 35 Inch Curved UltraWide 21: 9 LED Cre...  399.97  4.6  2,251   \n",
       "\n",
       "  inches  \n",
       "0     35  \n",
       "1     30  \n",
       "2     29  \n",
       "3     29  \n",
       "4     35  "
      ]
     },
     "execution_count": 156,
     "metadata": {},
     "output_type": "execute_result"
    }
   ],
   "source": [
    "for i in range(0,len(df)):\n",
    "    df[\"ra\"][i]=df[\"ra\"][i][0:3]\n",
    "df.head()    "
   ]
  },
  {
   "cell_type": "code",
   "execution_count": 166,
   "metadata": {},
   "outputs": [
    {
     "data": {
      "text/plain": [
       "str"
      ]
     },
     "execution_count": 166,
     "metadata": {},
     "output_type": "execute_result"
    }
   ],
   "source": [
    "type(df[\"re\"][i])"
   ]
  },
  {
   "cell_type": "code",
   "execution_count": 164,
   "metadata": {},
   "outputs": [],
   "source": [
    "for i in range(0,len(df)):\n",
    "    df[\"ra\"][i]=float(df[\"ra\"][i])\n",
    "    df[\"p\"][i]=float(df[\"p\"][i])\n",
    "    df[\"inches\"][i]= int(df[\"inches\"][i])\n",
    "    "
   ]
  },
  {
   "cell_type": "code",
   "execution_count": 165,
   "metadata": {},
   "outputs": [
    {
     "data": {
      "text/plain": [
       "int"
      ]
     },
     "execution_count": 165,
     "metadata": {},
     "output_type": "execute_result"
    }
   ],
   "source": [
    "type(df[\"inches\"][25])"
   ]
  },
  {
   "cell_type": "code",
   "execution_count": 167,
   "metadata": {},
   "outputs": [],
   "source": [
    "backup3=df.copy()"
   ]
  },
  {
   "cell_type": "code",
   "execution_count": 181,
   "metadata": {},
   "outputs": [],
   "source": [
    "df=backup3"
   ]
  },
  {
   "cell_type": "code",
   "execution_count": 182,
   "metadata": {},
   "outputs": [
    {
     "data": {
      "text/html": [
       "<div>\n",
       "<style scoped>\n",
       "    .dataframe tbody tr th:only-of-type {\n",
       "        vertical-align: middle;\n",
       "    }\n",
       "\n",
       "    .dataframe tbody tr th {\n",
       "        vertical-align: top;\n",
       "    }\n",
       "\n",
       "    .dataframe thead th {\n",
       "        text-align: right;\n",
       "    }\n",
       "</style>\n",
       "<table border=\"1\" class=\"dataframe\">\n",
       "  <thead>\n",
       "    <tr style=\"text-align: right;\">\n",
       "      <th></th>\n",
       "      <th>des</th>\n",
       "      <th>p</th>\n",
       "      <th>ra</th>\n",
       "      <th>re</th>\n",
       "      <th>inches</th>\n",
       "    </tr>\n",
       "  </thead>\n",
       "  <tbody>\n",
       "    <tr>\n",
       "      <th>0</th>\n",
       "      <td>Deco Gear 35\" Curved Ultrawide LED Gaming Moni...</td>\n",
       "      <td>339.95</td>\n",
       "      <td>4.7</td>\n",
       "      <td>333</td>\n",
       "      <td>35</td>\n",
       "    </tr>\n",
       "    <tr>\n",
       "      <th>1</th>\n",
       "      <td>Sceptre Curved 30\" 21:9 Gaming LED Monitor 256...</td>\n",
       "      <td>235.91</td>\n",
       "      <td>4.6</td>\n",
       "      <td>2338</td>\n",
       "      <td>30</td>\n",
       "    </tr>\n",
       "    <tr>\n",
       "      <th>2</th>\n",
       "      <td>LG 29WN600-W 29\" 21:9 UltraWide WFHD IPS HDR10...</td>\n",
       "      <td>226.99</td>\n",
       "      <td>4.7</td>\n",
       "      <td>1814</td>\n",
       "      <td>29</td>\n",
       "    </tr>\n",
       "    <tr>\n",
       "      <th>3</th>\n",
       "      <td>LG 29WP60G-B 29 Inch 21:9 UltraWide Full HD (2...</td>\n",
       "      <td>226.99</td>\n",
       "      <td>4.6</td>\n",
       "      <td>1034</td>\n",
       "      <td>29</td>\n",
       "    </tr>\n",
       "    <tr>\n",
       "      <th>4</th>\n",
       "      <td>Sceptre 35 Inch Curved UltraWide 21: 9 LED Cre...</td>\n",
       "      <td>399.97</td>\n",
       "      <td>4.6</td>\n",
       "      <td>2251</td>\n",
       "      <td>35</td>\n",
       "    </tr>\n",
       "  </tbody>\n",
       "</table>\n",
       "</div>"
      ],
      "text/plain": [
       "                                                 des       p   ra    re inches\n",
       "0  Deco Gear 35\" Curved Ultrawide LED Gaming Moni...  339.95  4.7   333     35\n",
       "1  Sceptre Curved 30\" 21:9 Gaming LED Monitor 256...  235.91  4.6  2338     30\n",
       "2  LG 29WN600-W 29\" 21:9 UltraWide WFHD IPS HDR10...  226.99  4.7  1814     29\n",
       "3  LG 29WP60G-B 29 Inch 21:9 UltraWide Full HD (2...  226.99  4.6  1034     29\n",
       "4  Sceptre 35 Inch Curved UltraWide 21: 9 LED Cre...  399.97  4.6  2251     35"
      ]
     },
     "execution_count": 182,
     "metadata": {},
     "output_type": "execute_result"
    }
   ],
   "source": [
    "for ids in range(len(df[\"re\"])):\n",
    "    i=df[\"re\"][ids]\n",
    "    p=[char for char in i]\n",
    "    for j in range(0,len(p)):\n",
    "        if p[j]==\",\":\n",
    "            new=i[0:j]+i[j+1:len(p)]\n",
    "            break\n",
    "        new=df[\"re\"] [ids]        \n",
    "    df[\"re\"][ids]=int(new)\n",
    "df.head()                 "
   ]
  },
  {
   "cell_type": "code",
   "execution_count": 190,
   "metadata": {},
   "outputs": [
    {
     "data": {
      "text/html": [
       "<div>\n",
       "<style scoped>\n",
       "    .dataframe tbody tr th:only-of-type {\n",
       "        vertical-align: middle;\n",
       "    }\n",
       "\n",
       "    .dataframe tbody tr th {\n",
       "        vertical-align: top;\n",
       "    }\n",
       "\n",
       "    .dataframe thead th {\n",
       "        text-align: right;\n",
       "    }\n",
       "</style>\n",
       "<table border=\"1\" class=\"dataframe\">\n",
       "  <thead>\n",
       "    <tr style=\"text-align: right;\">\n",
       "      <th></th>\n",
       "      <th>inches</th>\n",
       "      <th>ra</th>\n",
       "      <th>re</th>\n",
       "      <th>p</th>\n",
       "    </tr>\n",
       "  </thead>\n",
       "  <tbody>\n",
       "    <tr>\n",
       "      <th>0</th>\n",
       "      <td>35</td>\n",
       "      <td>4.7</td>\n",
       "      <td>333</td>\n",
       "      <td>339.95</td>\n",
       "    </tr>\n",
       "    <tr>\n",
       "      <th>1</th>\n",
       "      <td>30</td>\n",
       "      <td>4.6</td>\n",
       "      <td>2338</td>\n",
       "      <td>235.91</td>\n",
       "    </tr>\n",
       "    <tr>\n",
       "      <th>2</th>\n",
       "      <td>29</td>\n",
       "      <td>4.7</td>\n",
       "      <td>1814</td>\n",
       "      <td>226.99</td>\n",
       "    </tr>\n",
       "    <tr>\n",
       "      <th>3</th>\n",
       "      <td>29</td>\n",
       "      <td>4.6</td>\n",
       "      <td>1034</td>\n",
       "      <td>226.99</td>\n",
       "    </tr>\n",
       "    <tr>\n",
       "      <th>4</th>\n",
       "      <td>35</td>\n",
       "      <td>4.6</td>\n",
       "      <td>2251</td>\n",
       "      <td>399.97</td>\n",
       "    </tr>\n",
       "  </tbody>\n",
       "</table>\n",
       "</div>"
      ],
      "text/plain": [
       "  inches   ra    re       p\n",
       "0     35  4.7   333  339.95\n",
       "1     30  4.6  2338  235.91\n",
       "2     29  4.7  1814  226.99\n",
       "3     29  4.6  1034  226.99\n",
       "4     35  4.6  2251  399.97"
      ]
     },
     "execution_count": 190,
     "metadata": {},
     "output_type": "execute_result"
    }
   ],
   "source": [
    "df=df[[\"inches\",\"ra\",\"re\",\"p\"]]\n",
    "df.head()"
   ]
  },
  {
   "cell_type": "code",
   "execution_count": 204,
   "metadata": {},
   "outputs": [],
   "source": [
    "for i in range(0,len(df)):\n",
    "    df[\"inches\"][i]=float(df[\"inches\"][i])\n",
    "    df[\"re\"][i]=float(df[\"re\"][i])"
   ]
  },
  {
   "cell_type": "code",
   "execution_count": 210,
   "metadata": {},
   "outputs": [
    {
     "name": "stdout",
     "output_type": "stream",
     "text": [
      "<class 'pandas.core.frame.DataFrame'>\n",
      "RangeIndex: 354 entries, 0 to 353\n",
      "Data columns (total 4 columns):\n",
      " #   Column  Non-Null Count  Dtype \n",
      "---  ------  --------------  ----- \n",
      " 0   inches  354 non-null    object\n",
      " 1   ra      354 non-null    object\n",
      " 2   re      354 non-null    object\n",
      " 3   p       354 non-null    object\n",
      "dtypes: object(4)\n",
      "memory usage: 11.2+ KB\n"
     ]
    },
    {
     "data": {
      "text/plain": [
       "pandas.core.frame.DataFrame"
      ]
     },
     "execution_count": 210,
     "metadata": {},
     "output_type": "execute_result"
    }
   ],
   "source": [
    "df.info()\n",
    "type(df)"
   ]
  },
  {
   "cell_type": "code",
   "execution_count": 211,
   "metadata": {},
   "outputs": [],
   "source": [
    "x=df[[\"inches\",\"re\",\"p\"]]\n",
    "y=df[[\"ra\"]]"
   ]
  },
  {
   "cell_type": "code",
   "execution_count": 215,
   "metadata": {},
   "outputs": [],
   "source": [
    "from sklearn.model_selection import train_test_split\n",
    "x_train,x_test,y_train,y_test= train_test_split(x,y,test_size=0.4,random_state=101)"
   ]
  },
  {
   "cell_type": "code",
   "execution_count": 216,
   "metadata": {},
   "outputs": [
    {
     "data": {
      "text/plain": [
       "<matplotlib.collections.PathCollection at 0xe7ce610>"
      ]
     },
     "execution_count": 216,
     "metadata": {},
     "output_type": "execute_result"
    },
    {
     "data": {
      "image/png": "[encoded data removed]",
      "text/plain": [
       "<Figure size 432x288 with 1 Axes>"
      ]
     },
     "metadata": {
      "needs_background": "light"
     },
     "output_type": "display_data"
    }
   ],
   "source": [
    "from sklearn.linear_model import LinearRegression\n",
    "lm=LinearRegression()\n",
    "lm.fit(x_train,y_train)\n",
    "pred=lm.predict(x_test)\n",
    "plt.scatter(y_test,pred)"
   ]
  },
  {
   "cell_type": "code",
   "execution_count": 218,
   "metadata": {},
   "outputs": [
    {
     "name": "stdout",
     "output_type": "stream",
     "text": [
      "0.17037479077635678\n"
     ]
    }
   ],
   "source": [
    "from sklearn import metrics\n",
    "print(metrics.mean_absolute_error(y_test,pred))"
   ]
  },
  {
   "cell_type": "code",
   "execution_count": 227,
   "metadata": {},
   "outputs": [
    {
     "data": {
      "text/plain": [
       "0.43711322514655104"
      ]
     },
     "execution_count": 227,
     "metadata": {},
     "output_type": "execute_result"
    }
   ],
   "source": [
    "from sklearn.metrics import r2_score\n",
    "r2_score(y_test,pred)"
   ]
  },
  {
   "cell_type": "code",
   "execution_count": 234,
   "metadata": {},
   "outputs": [],
   "source": [
    "from sklearn.preprocessing import PolynomialFeatures\n",
    "  \n",
    "poly = PolynomialFeatures(degree = 3)\n",
    "X_poly = poly.fit_transform(x_train)\n",
    "X_P2=poly.fit_transform(x_test)\n",
    "\n",
    "lin2 = LinearRegression()\n",
    "lin2.fit(X_poly, y_train)\n",
    "pred=lin2.predict(X_P2)"
   ]
  },
  {
   "cell_type": "code",
   "execution_count": 235,
   "metadata": {},
   "outputs": [
    {
     "data": {
      "text/plain": [
       "0.9999999999995158"
      ]
     },
     "execution_count": 235,
     "metadata": {},
     "output_type": "execute_result"
    }
   ],
   "source": [
    "r2_score(y_test,pred)"
   ]
  },
  {
   "cell_type": "code",
   "execution_count": null,
   "metadata": {},
   "outputs": [],
   "source": []
  }
 ],
 "metadata": {
  "kernelspec": {
   "display_name": "Python 3",
   "language": "python",
   "name": "python3"
  },
  "language_info": {
   "codemirror_mode": {
    "name": "ipython",
    "version": 3
   },
   "file_extension": ".py",
   "mimetype": "text/x-python",
   "name": "python",
   "nbconvert_exporter": "python",
   "pygments_lexer": "ipython3",
   "version": "3.8.5"
  }
 },
 "nbformat": 4,
 "nbformat_minor": 4
}
