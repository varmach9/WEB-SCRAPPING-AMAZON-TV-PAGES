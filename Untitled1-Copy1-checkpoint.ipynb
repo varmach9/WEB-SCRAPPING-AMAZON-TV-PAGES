{
 "cells": [
  {
   "cell_type": "code",
   "execution_count": 13,
   "metadata": {},
   "outputs": [],
   "source": [
    "import csv\n",
    "from bs4 import BeautifulSoup"
   ]
  },
  {
   "cell_type": "code",
   "execution_count": 4,
   "metadata": {},
   "outputs": [
    {
     "name": "stdout",
     "output_type": "stream",
     "text": [
      "Collecting selenium\n",
      "  Downloading selenium-3.141.0-py2.py3-none-any.whl (904 kB)\n",
      "Requirement already satisfied: urllib3 in c:\\users\\lenovo\\anaconda3\\lib\\site-packages (from selenium) (1.25.11)\n",
      "Installing collected packages: selenium\n",
      "Successfully installed selenium-3.141.0\n"
     ]
    }
   ],
   "source": [
    "!pip install selenium"
   ]
  },
  {
   "cell_type": "code",
   "execution_count": 32,
   "metadata": {},
   "outputs": [
    {
     "name": "stdout",
     "output_type": "stream",
     "text": [
      "Collecting webdriver-managerNote: you may need to restart the kernel to use updated packages.\n",
      "  Downloading webdriver_manager-3.4.2-py2.py3-none-any.whl (16 kB)\n",
      "Requirement already satisfied: requests in c:\\users\\lenovo\\anaconda3\\lib\\site-packages (from webdriver-manager) (2.24.0)\n",
      "Collecting configparser\n",
      "  Downloading configparser-5.0.2-py3-none-any.whl (19 kB)\n",
      "Collecting crayons\n",
      "  Downloading crayons-0.4.0-py2.py3-none-any.whl (4.6 kB)\n",
      "Requirement already satisfied: urllib3!=1.25.0,!=1.25.1,<1.26,>=1.21.1 in c:\\users\\lenovo\\anaconda3\\lib\\site-packages (from requests->webdriver-manager) (1.25.11)\n",
      "Requirement already satisfied: chardet<4,>=3.0.2 in c:\\users\\lenovo\\anaconda3\\lib\\site-packages (from requests->webdriver-manager) (3.0.4)\n",
      "Requirement already satisfied: idna<3,>=2.5 in c:\\users\\lenovo\\anaconda3\\lib\\site-packages (from requests->webdriver-manager) (2.10)\n",
      "Requirement already satisfied: certifi>=2017.4.17 in c:\\users\\lenovo\\anaconda3\\lib\\site-packages (from requests->webdriver-manager) (2020.6.20)\n",
      "Requirement already satisfied: colorama in c:\\users\\lenovo\\anaconda3\\lib\\site-packages (from crayons->webdriver-manager) (0.4.4)\n",
      "Installing collected packages: configparser, crayons, webdriver-manager\n",
      "Successfully installed configparser-5.0.2 crayons-0.4.0 webdriver-manager-3.4.2\n",
      "\n"
     ]
    }
   ],
   "source": [
    "pip install webdriver-manager\n"
   ]
  },
  {
   "cell_type": "code",
   "execution_count": 33,
   "metadata": {},
   "outputs": [
    {
     "name": "stderr",
     "output_type": "stream",
     "text": [
      "\n",
      "\n",
      "====== WebDriver manager ======\n",
      "Current google-chrome version is 91.0.4472\n",
      "Get LATEST driver version for 91.0.4472\n",
      "There is no [win32] chromedriver for browser 91.0.4472 in cache\n",
      "Get LATEST driver version for 91.0.4472\n",
      "Trying to download new driver from https://chromedriver.storage.googleapis.com/91.0.4472.19/chromedriver_win32.zip\n",
      "Driver has been saved in cache [C:\\Users\\lenovo\\.wdm\\drivers\\chromedriver\\win32\\91.0.4472.19]\n"
     ]
    }
   ],
   "source": [
    "from selenium import webdriver\n",
    "\n",
    "from webdriver_manager.chrome import ChromeDriverManager\n",
    "\n",
    "driver = webdriver.Chrome(ChromeDriverManager().install())"
   ]
  },
  {
   "cell_type": "code",
   "execution_count": 34,
   "metadata": {},
   "outputs": [],
   "source": [
    "url=\"https://www.amazon.com\"\n",
    "driver.get(url)"
   ]
  },
  {
   "cell_type": "markdown",
   "metadata": {},
   "source": [
    "def get_url(search_term):\n",
    "    # generate url from search term\n",
    "    search_term =search_term.replace(\" \",\"+\")\n",
    "    template=\"https://www.amazon.com/s?k={}&ref=nb_sb_noss_1\"\n",
    "    return template.format(search_term)"
   ]
  },
  {
   "cell_type": "code",
   "execution_count": 52,
   "metadata": {},
   "outputs": [
    {
     "name": "stdout",
     "output_type": "stream",
     "text": [
      "https://www.amazon.com/s?k=ultrawide+monitor&ref=nb_sb_noss_1\n"
     ]
    }
   ],
   "source": [
    "url= get_url(\"ultrawide monitor\")\n",
    "print(url)"
   ]
  },
  {
   "cell_type": "code",
   "execution_count": null,
   "metadata": {},
   "outputs": [],
   "source": []
  },
  {
   "cell_type": "raw",
   "metadata": {},
   "source": [
    "#driver.get(url)   try for different urls"
   ]
  },
  {
   "cell_type": "markdown",
   "metadata": {},
   "source": [
    "EXRACT THE COLLECTION"
   ]
  },
  {
   "cell_type": "code",
   "execution_count": 53,
   "metadata": {},
   "outputs": [],
   "source": [
    "soup=BeautifulSoup(driver.page_source,\"html.parser\")"
   ]
  },
  {
   "cell_type": "markdown",
   "metadata": {},
   "source": [
    "find what is unique about records in html writings to identify"
   ]
  },
  {
   "cell_type": "code",
   "execution_count": 54,
   "metadata": {},
   "outputs": [],
   "source": [
    "results=soup.find_all(\"div\",{\"data-component-type\": \"s-search-result\"})"
   ]
  },
  {
   "cell_type": "code",
   "execution_count": 63,
   "metadata": {},
   "outputs": [
    {
     "data": {
      "text/plain": [
       "22"
      ]
     },
     "execution_count": 63,
     "metadata": {},
     "output_type": "execute_result"
    }
   ],
   "source": [
    "len(results)"
   ]
  },
  {
   "cell_type": "markdown",
   "metadata": {},
   "source": [
    "## Prototype the record"
   ]
  },
  {
   "cell_type": "code",
   "execution_count": 82,
   "metadata": {},
   "outputs": [],
   "source": [
    "item=results[0]"
   ]
  },
  {
   "cell_type": "code",
   "execution_count": 83,
   "metadata": {},
   "outputs": [],
   "source": [
    "atag=item.h2.a"
   ]
  },
  {
   "cell_type": "code",
   "execution_count": 84,
   "metadata": {},
   "outputs": [
    {
     "data": {
      "text/plain": [
       "'Deco Gear 35\" Curved Ultrawide LED Gaming Monitor 21:9 Aspect Ratio, Crisp 2560 x 1080 Resolution, 16.7 Million Colors, 75 HZ Refresh Rate, 2000:1 Contrast Ratio, (HDMI, DVI, and DP Connections)'"
      ]
     },
     "execution_count": 84,
     "metadata": {},
     "output_type": "execute_result"
    }
   ],
   "source": [
    "atag.text.strip()"
   ]
  },
  {
   "cell_type": "code",
   "execution_count": 85,
   "metadata": {},
   "outputs": [],
   "source": [
    "urlofitem = \"https://www.amazon.com\" + atag.get(\"href\")"
   ]
  },
  {
   "cell_type": "code",
   "execution_count": 86,
   "metadata": {},
   "outputs": [
    {
     "name": "stdout",
     "output_type": "stream",
     "text": [
      "https://www.amazon.com/gp/slredirect/picassoRedirect.html/ref=pa_sp_atf_aps_sr_pg1_1?ie=UTF8&adId=A08509659VO79UAH3ZGM&url=%2FDeco-Gear-Curved-Ultrawide-Monitor%2Fdp%2FB07NPT78C6%2Fref%3Dsr_1_1_sspa%3Fdchild%3D1%26keywords%3Dultrawide%2Bmonitor%26qid%3D1623051972%26sr%3D8-1-spons%26psc%3D1%26smid%3DA13BNE3P7C8THK&qualifier=1623051972&id=3439710084998198&widgetName=sp_atf\n"
     ]
    }
   ],
   "source": [
    "print(urlofitem)"
   ]
  },
  {
   "cell_type": "markdown",
   "metadata": {},
   "source": [
    "## for price of item"
   ]
  },
  {
   "cell_type": "code",
   "execution_count": 87,
   "metadata": {},
   "outputs": [],
   "source": [
    "price_parent =item.find(\"span\",\"a-price\")"
   ]
  },
  {
   "cell_type": "code",
   "execution_count": 88,
   "metadata": {},
   "outputs": [],
   "source": [
    "price=price_parent.find(\"span\",\"a-offscreen\").text"
   ]
  },
  {
   "cell_type": "code",
   "execution_count": 89,
   "metadata": {},
   "outputs": [
    {
     "name": "stdout",
     "output_type": "stream",
     "text": [
      "$339.95\n"
     ]
    }
   ],
   "source": [
    "print(price)"
   ]
  },
  {
   "cell_type": "markdown",
   "metadata": {},
   "source": [
    "## review and rating of item"
   ]
  },
  {
   "cell_type": "code",
   "execution_count": 90,
   "metadata": {},
   "outputs": [],
   "source": [
    "rating=item.i.text"
   ]
  },
  {
   "cell_type": "code",
   "execution_count": 91,
   "metadata": {},
   "outputs": [],
   "source": [
    "review=item.find(\"span\",\"a-size-base\").text"
   ]
  },
  {
   "cell_type": "code",
   "execution_count": 92,
   "metadata": {},
   "outputs": [
    {
     "name": "stdout",
     "output_type": "stream",
     "text": [
      "333\n"
     ]
    }
   ],
   "source": [
    "print(review)"
   ]
  },
  {
   "cell_type": "markdown",
   "metadata": {},
   "source": [
    "## generalize this to all items"
   ]
  },
  {
   "cell_type": "code",
   "execution_count": 98,
   "metadata": {},
   "outputs": [],
   "source": [
    "def extract_record(item):\n",
    "    # extracts and returns data from single record\n",
    "    # description\n",
    "    atag=item.h2.a\n",
    "    desc=atag.text.strip()\n",
    "    urlofitem = \"https://www.amazon.com\" + atag.get(\"href\")\n",
    "    \n",
    "    #price,rating,review\n",
    "    try:\n",
    "        price_parent =item.find(\"span\",\"a-price\")\n",
    "        price=price_parent.find(\"span\",\"a-offscreen\").text\n",
    "    except AttributeError :\n",
    "        return\n",
    "    try:\n",
    "        rating=item.i.text\n",
    "        review=item.find(\"span\",\"a-size-base\").text\n",
    "    except AttributeError :\n",
    "        rating=\"\"\n",
    "        review=\"\"\n",
    "    \n",
    "    result=(desc,price,rating,review,url)\n",
    "    return result\n"
   ]
  },
  {
   "cell_type": "code",
   "execution_count": 99,
   "metadata": {},
   "outputs": [],
   "source": [
    "records=[]\n",
    "results=soup.find_all(\"div\",{\"data-component-type\": \"s-search-result\"})\n",
    "\n",
    "for item in results:\n",
    "    record=extract_record(item)\n",
    "    if record:\n",
    "        records.append(record)"
   ]
  },
  {
   "cell_type": "code",
   "execution_count": 103,
   "metadata": {},
   "outputs": [
    {
     "data": {
      "text/plain": [
       "('LG 29WP60G-B 29 Inch 21:9 UltraWide Full HD (2560 x 1080) IPS Monitor with sRGB 99% Color Gamut and HDR 10, USB Type-C Connectivity and 3-Side Virtually Borderless Display, Black',\n",
       " '$226.99',\n",
       " '4.6 out of 5 stars',\n",
       " '1,034',\n",
       " 'https://www.amazon.com/s?k=ultrawide+monitor&ref=nb_sb_noss_1')"
      ]
     },
     "execution_count": 103,
     "metadata": {},
     "output_type": "execute_result"
    }
   ],
   "source": [
    "records[3]"
   ]
  },
  {
   "cell_type": "code",
   "execution_count": 104,
   "metadata": {},
   "outputs": [
    {
     "name": "stdout",
     "output_type": "stream",
     "text": [
      "333\n",
      "2,338\n",
      "1,814\n",
      "1,034\n",
      "2,251\n",
      "603\n",
      "3,813\n",
      "39\n",
      "2,492\n",
      "39\n",
      "9,193\n",
      "8,559\n",
      "66\n",
      "948\n",
      "2,338\n",
      "88\n",
      "2,470\n",
      "5\n",
      "62\n"
     ]
    }
   ],
   "source": [
    "for row in records:\n",
    "    print(row[3])"
   ]
  },
  {
   "cell_type": "markdown",
   "metadata": {},
   "source": [
    "## navigate to the next page"
   ]
  },
  {
   "cell_type": "code",
   "execution_count": 105,
   "metadata": {},
   "outputs": [],
   "source": [
    "def get_url(search_term):\n",
    "    # generate url from search term\n",
    "    search_term =search_term.replace(\" \",\"+\")\n",
    "    template=\"https://www.amazon.com/s?k={}&ref=nb_sb_noss_1\"\n",
    "    url= template.format(search_term)\n",
    "    url ++ \"&page{}\"\n",
    "    return url"
   ]
  },
  {
   "cell_type": "markdown",
   "metadata": {},
   "source": [
    "## put all together"
   ]
  },
  {
   "cell_type": "code",
   "execution_count": 120,
   "metadata": {},
   "outputs": [],
   "source": [
    "import csv\n",
    "from bs4 import BeautifulSoup\n",
    "from selenium import webdriver\n",
    "from webdriver_manager.chrome import ChromeDriverManager\n",
    "\n",
    "def get_url(search_term):\n",
    "    # generate url from search term\n",
    "    search_term =search_term.replace(\" \",\"+\")\n",
    "    template=\"https://www.amazon.com/s?k={}&ref=nb_sb_noss_1\"\n",
    "    url= template.format(search_term)\n",
    "    url += \"&page{}\"\n",
    "    return url\n",
    "\n",
    "def extract_record(item):\n",
    "    # extracts and returns data from single record\n",
    "    # description\n",
    "    atag=item.h2.a\n",
    "    desc=atag.text.strip()\n",
    "    urlofitem = \"https://www.amazon.com\" + atag.get(\"href\")\n",
    "    \n",
    "    #price,rating,review\n",
    "    try:\n",
    "        price_parent =item.find(\"span\",\"a-price\")\n",
    "        price=price_parent.find(\"span\",\"a-offscreen\").text\n",
    "    except AttributeError :\n",
    "        return\n",
    "    try:\n",
    "        rating=item.i.text\n",
    "        review=item.find(\"span\",\"a-size-base\").text\n",
    "    except AttributeError :\n",
    "        rating=\"\"\n",
    "        review=\"\"\n",
    "    \n",
    "    result=(desc,price,rating,review,url)\n",
    "    return result\n",
    "\n",
    "def main(search_term):\n",
    "    driver = webdriver.Chrome(ChromeDriverManager().install())\n",
    "    records=[]\n",
    "    url=get_url(search_term)\n",
    "    for page in range(1,21):\n",
    "        \n",
    "        driver.get(url.format(page))\n",
    "        soup=BeautifulSoup(driver.page_source,\"html.parser\")\n",
    "        results=soup.find_all(\"div\",{\"data-component-type\": \"s-search-result\"})\n",
    "        \n",
    "        for item in results:\n",
    "            record=extract_record(item)\n",
    "            if record:\n",
    "                records.append(record)\n",
    "    driver.close() \n",
    "    with open(\"result.csv\",\"w\",newline=\"\",encoding=\"utf-8\")as f:\n",
    "        writer =csv.writer(f)\n",
    "        writer.writerow([\"des\",\"p\",\"ra\",\"re\",\"url\"])\n",
    "        writer.writerows(records)"
   ]
  },
  {
   "cell_type": "code",
   "execution_count": 122,
   "metadata": {},
   "outputs": [
    {
     "name": "stderr",
     "output_type": "stream",
     "text": [
      "\n",
      "\n",
      "====== WebDriver manager ======\n",
      "Current google-chrome version is 91.0.4472\n",
      "Get LATEST driver version for 91.0.4472\n",
      "Driver [C:\\Users\\lenovo\\.wdm\\drivers\\chromedriver\\win32\\91.0.4472.19\\chromedriver.exe] found in cache\n"
     ]
    }
   ],
   "source": [
    "main(\"ultrawide monitor\")"
   ]
  },
  {
   "cell_type": "code",
   "execution_count": null,
   "metadata": {},
   "outputs": [],
   "source": []
  }
 ],
 "metadata": {
  "kernelspec": {
   "display_name": "Python 3",
   "language": "python",
   "name": "python3"
  },
  "language_info": {
   "codemirror_mode": {
    "name": "ipython",
    "version": 3
   },
   "file_extension": ".py",
   "mimetype": "text/x-python",
   "name": "python",
   "nbconvert_exporter": "python",
   "pygments_lexer": "ipython3",
   "version": "3.8.5"
  }
 },
 "nbformat": 4,
 "nbformat_minor": 4
}
